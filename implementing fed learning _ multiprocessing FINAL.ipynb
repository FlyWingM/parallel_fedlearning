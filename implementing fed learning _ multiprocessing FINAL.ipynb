{
 "cells": [
  {
   "cell_type": "code",
   "execution_count": 1,
   "metadata": {},
   "outputs": [],
   "source": [
    "import matplotlib\n",
    "matplotlib.use('Agg')\n",
    "%matplotlib inline\n",
    "import matplotlib.pyplot as plt\n",
    "\n",
    "import torch\n",
    "import torch.nn.functional as F\n",
    "from torch.utils.data import DataLoader\n",
    "import torch.optim as optim\n",
    "from torchvision import datasets, transforms\n",
    "\n",
    "from utils.sampling import mnist_iid, mnist_noniid, cifar_iid\n",
    "from utils.options import args_parser\n",
    "from utils.customloader import CustomDataset, DatasetSplit\n",
    "from utils.separate_into_classes import separate_into_classes\n",
    "from utils.arguments import Args\n",
    "from models.Update import LocalUpdate\n",
    "from models.Nets import MLP, CNNMnist, CNNCifar\n",
    "from models.Fed import FedAvg\n",
    "from models.test import test_img\n",
    "from utils.smooth_crossentropy import SmoothCrossEntropyLoss\n",
    "from utils.dataloader import get_dataloader, set_seed\n",
    "import random\n",
    "import os\n",
    "os.environ[\"CUDA_VISIBLE_DEVICES\"] = \"\"\n",
    "\n",
    "import numpy as np\n",
    "import copy\n",
    "from sklearn.model_selection import train_test_split\n",
    "\n",
    "\n",
    "\n"
   ]
  },
  {
   "cell_type": "code",
   "execution_count": 2,
   "metadata": {},
   "outputs": [],
   "source": [
    "from train_glob import main"
   ]
  },
  {
   "cell_type": "code",
   "execution_count": 3,
   "metadata": {},
   "outputs": [
    {
     "name": "stdout",
     "output_type": "stream",
     "text": [
      "(30000, 1, 28, 28)\n",
      "torch.Size([30000])\n",
      "(30000, 1, 28, 28)\n",
      "torch.Size([30000])\n",
      "Train Epoch: 0 [0/30000 (0%)]\tLoss: 2.348456\n",
      "\n",
      "Train loss: 2.306430689493815\n",
      "\n",
      "Test set: Average loss: 0.00226 \n",
      "Accuracy: 1493/10000 (14.93%)\n",
      "\n",
      "Train Epoch: 1 [0/30000 (0%)]\tLoss: 2.268748\n",
      "\n",
      "Train loss: 2.247836192448934\n",
      "\n",
      "Test set: Average loss: 0.00218 \n",
      "Accuracy: 3681/10000 (36.81%)\n",
      "\n",
      "Train Epoch: 2 [0/30000 (0%)]\tLoss: 2.210516\n",
      "\n",
      "Train loss: 2.142793337504069\n",
      "\n",
      "Test set: Average loss: 0.00196 \n",
      "Accuracy: 5032/10000 (50.32%)\n",
      "\n",
      "Train Epoch: 3 [0/30000 (0%)]\tLoss: 2.055670\n",
      "\n",
      "Train loss: 1.9120877504348754\n",
      "\n",
      "Test set: Average loss: 0.00156 \n",
      "Accuracy: 6293/10000 (62.93%)\n",
      "\n",
      "Train Epoch: 4 [0/30000 (0%)]\tLoss: 1.738179\n",
      "\n",
      "Train loss: 1.6306919535001119\n",
      "\n",
      "Test set: Average loss: 0.00117 \n",
      "Accuracy: 7517/10000 (75.17%)\n",
      "\n"
     ]
    }
   ],
   "source": [
    "main()"
   ]
  },
  {
   "cell_type": "code",
   "execution_count": 4,
   "metadata": {},
   "outputs": [
    {
     "name": "stdout",
     "output_type": "stream",
     "text": [
      "(30000, 1, 28, 28)\n",
      "torch.Size([30000])\n",
      "(30000, 1, 28, 28)\n",
      "torch.Size([30000])\n"
     ]
    }
   ],
   "source": [
    "args = Args()    \n",
    "\n",
    "#torch.cuda.is_available()\n",
    "\n",
    "#set_seed(args.seed)\n",
    "global_train_loader, local_train_loader, test_loader = get_dataloader(data='mnist', \n",
    "                                                                      test_size=0.5, \n",
    "                                                                      num_workers=8,\n",
    "                                                                      batch_size=1000, \n",
    "                                                                      seed=args.seed,\n",
    "                                                                     )\n",
    "\n"
   ]
  },
  {
   "cell_type": "code",
   "execution_count": 5,
   "metadata": {},
   "outputs": [
    {
     "data": {
      "text/plain": [
       "CNNMnist(\n",
       "  (conv1): Conv2d(1, 10, kernel_size=(5, 5), stride=(1, 1))\n",
       "  (conv2): Conv2d(10, 20, kernel_size=(5, 5), stride=(1, 1))\n",
       "  (conv2_drop): Dropout2d(p=0.5, inplace=False)\n",
       "  (fc1): Linear(in_features=320, out_features=50, bias=True)\n",
       "  (fc2): Linear(in_features=50, out_features=10, bias=True)\n",
       ")"
      ]
     },
     "execution_count": 5,
     "metadata": {},
     "output_type": "execute_result"
    }
   ],
   "source": [
    "net_glob = CNNMnist(args=args).to(args.device)\n",
    "net_glob.train()"
   ]
  },
  {
   "cell_type": "code",
   "execution_count": 6,
   "metadata": {},
   "outputs": [],
   "source": [
    "loss_train = []\n",
    "cv_loss, cv_acc = [], []\n",
    "val_loss_pre, counter = 0, 0\n",
    "net_best = None\n",
    "best_loss = None\n",
    "val_acc_list, net_list = [], []\n",
    "total_acc = []"
   ]
  },
  {
   "cell_type": "code",
   "execution_count": 7,
   "metadata": {},
   "outputs": [],
   "source": [
    "# training\n",
    "optimizer = optim.SGD(net_glob.parameters(), lr=args.lr, momentum=args.momentum)\n",
    "sloss = F.cross_entropy\n",
    "#sloss = SmoothCrossEntropyLoss(smoothing=0.3)\n"
   ]
  },
  {
   "cell_type": "code",
   "execution_count": 8,
   "metadata": {},
   "outputs": [],
   "source": [
    "def global_train_epoch(epoch, net_glob, global_train_loader, sloss, optimizer):    \n",
    "    net_glob.train()\n",
    "    batch_loss = []\n",
    "    for batch_idx,(data, target) in enumerate(global_train_loader):\n",
    "        data, target = data.to(args.device), target.to(args.device)\n",
    "        optimizer.zero_grad()\n",
    "        output = net_glob(data)\n",
    "        loss = sloss(output, target)\n",
    "        loss.backward()\n",
    "        optimizer.step()\n",
    "        if batch_idx % 50 == 0:\n",
    "            print('Train Epoch: {} [{}/{} ({:.0f}%)]\\tLoss: {:.6f}'.format(\n",
    "                epoch, batch_idx * len(data), len(global_train_loader.dataset),\n",
    "                       100. * batch_idx / len(global_train_loader), loss.item()))\n",
    "        batch_loss.append(loss.item())\n",
    "    loss_avg = sum(batch_loss)/len(batch_loss)\n",
    "    print('\\nTrain loss:', loss_avg)\n",
    "    \n",
    "    return net_glob, loss_avg"
   ]
  },
  {
   "cell_type": "code",
   "execution_count": 9,
   "metadata": {},
   "outputs": [],
   "source": [
    "def test_model(net_glob, test_loader, sloss):\n",
    "    net_glob.eval()\n",
    "    test_loss = 0\n",
    "    correct = 0\n",
    "    l = len(test_loader)\n",
    "    for idx, (data, target) in enumerate(test_loader):\n",
    "        data, target = data.to(args.device), target.to(args.device)\n",
    "        log_probs = net_glob(data)\n",
    "        test_loss += F.cross_entropy(log_probs, target).item()\n",
    "        y_pred = log_probs.data.max(1, keepdim=True)[1]\n",
    "        correct += y_pred.eq(target.data.view_as(y_pred)).long().cpu().sum()\n",
    "\n",
    "    test_loss /= len(test_loader.dataset)\n",
    "\n",
    "    #After fedlearning\n",
    "    #print('After Federated Learning')\n",
    "    print('\\nTest set: Average loss: {:.5f} \\nAccuracy: {}/{} ({:.2f}%)\\n'.format(\n",
    "        test_loss, correct, len(test_loader.dataset),\n",
    "        100. * correct / len(test_loader.dataset)))\n",
    "\n",
    "    \n",
    "    "
   ]
  },
  {
   "cell_type": "code",
   "execution_count": null,
   "metadata": {},
   "outputs": [],
   "source": [
    "list_loss = []\n",
    "net_glob.train()\n",
    "for epoch in range(args.epochs):\n",
    "    net_glob, loss_avg = global_train_epoch(epoch, net_glob, global_train_loader, sloss, optimizer)\n",
    "    list_loss.append(loss_avg)\n",
    "\n",
    "    test_model(net_glob, test_loader, sloss)"
   ]
  },
  {
   "cell_type": "markdown",
   "metadata": {},
   "source": [
    "# Test model after training on global data"
   ]
  },
  {
   "cell_type": "code",
   "execution_count": null,
   "metadata": {},
   "outputs": [],
   "source": [
    "path_checkpoint='./test'\n",
    "torch.save(net_glob.state_dict(), path_checkpoint)\n",
    "#Before fedlearning\n",
    "print('Before Federated Learning')\n",
    "test_model(net_glob, test_loader, sloss)"
   ]
  },
  {
   "cell_type": "code",
   "execution_count": 8,
   "metadata": {},
   "outputs": [
    {
     "name": "stdout",
     "output_type": "stream",
     "text": [
      "Before Federated Learning\n"
     ]
    }
   ],
   "source": [
    "\n",
    "#Before fedlearning\n",
    "path_checkpoint='./test'\n",
    "\n",
    "net_glob.load_state_dict(torch.load(path_checkpoint))\n",
    "print('Before Federated Learning')\n",
    "#test_model(net_glob, test_loader, sloss)\n"
   ]
  },
  {
   "cell_type": "code",
   "execution_count": 10,
   "metadata": {},
   "outputs": [],
   "source": [
    "checkpoint_globalnet = copy.deepcopy(net_glob)"
   ]
  },
  {
   "cell_type": "markdown",
   "metadata": {},
   "source": [
    "# Train local models and update global model"
   ]
  },
  {
   "cell_type": "code",
   "execution_count": 11,
   "metadata": {},
   "outputs": [],
   "source": [
    "#Ensamble at the end!!\n",
    "\n",
    "#Keep track of each sub-model and when validating, \n",
    "#Calculate the loss for each class\n",
    "#save the model with the lowest loss for each class as a separate file\n",
    "\n",
    "#Ensable with Global model and local model\n",
    "\n",
    "\n",
    "#Keep the original, verify with \n"
   ]
  },
  {
   "cell_type": "code",
   "execution_count": null,
   "metadata": {},
   "outputs": [],
   "source": []
  },
  {
   "cell_type": "code",
   "execution_count": null,
   "metadata": {},
   "outputs": [],
   "source": []
  },
  {
   "cell_type": "code",
   "execution_count": 12,
   "metadata": {},
   "outputs": [
    {
     "data": {
      "text/plain": [
       "3000"
      ]
     },
     "execution_count": 12,
     "metadata": {},
     "output_type": "execute_result"
    }
   ],
   "source": [
    "dict_users = mnist_iid(global_train_loader.dataset.data, args.num_users)\n",
    "len(dict_users[1])"
   ]
  },
  {
   "cell_type": "code",
   "execution_count": 13,
   "metadata": {},
   "outputs": [
    {
     "name": "stdout",
     "output_type": "stream",
     "text": [
      "[0 1 2 3 4 5 6 7 8 9]\n",
      "[2961 3371 2979 3066 2921 2711 2959 3132 2926 2974]\n",
      "0\n",
      "1\n",
      "2\n",
      "3\n",
      "4\n",
      "5\n",
      "6\n",
      "7\n",
      "8\n",
      "9\n"
     ]
    }
   ],
   "source": [
    "unique, counts = np.unique(global_train_loader.dataset.targets, return_counts=True)\n",
    "print(unique)\n",
    "print(counts)\n",
    "sorted_y = copy.deepcopy(global_train_loader.dataset.targets)\n",
    "sorted_index_y = np.argsort(np.squeeze(sorted_y))\n",
    "\n",
    "class_dist=[]\n",
    "\n",
    "for i in range(args.num_classes):\n",
    "    print(i)\n",
    "    class_dist.append(np.array(sorted_index_y[sum(counts[:i]):sum(counts[:i+1])], dtype=np.int64))\n",
    "    \n",
    "non_iid = np.array(class_dist)"
   ]
  },
  {
   "cell_type": "code",
   "execution_count": 14,
   "metadata": {},
   "outputs": [],
   "source": [
    "individual = []\n",
    "for j in range(10):\n",
    "    individual.append(np.array_split(class_dist[j], 10))\n",
    "\n",
    "user_dist=[]\n",
    "for i in range(10):\n",
    "    temp=[]\n",
    "    for j in range(10):\n",
    "        temp.append(individual[j][i])\n",
    "        \n",
    "    \n",
    "    user_dist.append((np.concatenate(temp)).astype(np.int64))    \n",
    "    \n",
    "iid=np.array(user_dist)"
   ]
  },
  {
   "cell_type": "code",
   "execution_count": 15,
   "metadata": {},
   "outputs": [],
   "source": [
    "#Test data loader\n",
    "#local_dataset = CustomDataset(local_x, local_y, transform=transform)\n",
    "#ldr_train = DataLoader(DatasetSplit(local_dataset, class_dist[1]), batch_size=args.local_bs, shuffle=True)\n",
    "#for x,y in ldr_train:\n",
    "    #x=np.squeeze(np.transpose(x, (0,2,3,1)))\n",
    "    #break"
   ]
  },
  {
   "cell_type": "code",
   "execution_count": 16,
   "metadata": {},
   "outputs": [],
   "source": [
    "w_glob = net_glob.state_dict()\n",
    "w_locals = [w_glob for i in range(args.num_users)]\n",
    "#local_dataset = CustomDataset(local_x, local_y, transform=transform)"
   ]
  },
  {
   "cell_type": "code",
   "execution_count": 17,
   "metadata": {},
   "outputs": [],
   "source": [
    "def multi_train_local(q_l, q_w, idx, loss, model):\n",
    "    \n",
    "    #print(\"asdf11\")\n",
    "    \n",
    "    local = LocalUpdate(args=args, user_num=idx, loss_func=loss, dataset=local_train_loader.dataset, idxs=non_iid[idx])\n",
    "    \n",
    "    #print(\"asdf22\")\n",
    "    print(\"asdf33\")\n",
    "    w, loss = local.train(net=model.to(args.device))\n",
    "    \n",
    "    #print(\"asdf44\")\n",
    "    \n",
    "    #lock.acquire()\n",
    "    q_l.put(loss)\n",
    "    q_w.put(w)\n",
    "    #lock.release()\n",
    "    \n",
    "    time.sleep(10)\n",
    "    \n",
    "    \n",
    "    #return w, loss\n",
    "    #w_locals.append(copy.deepcopy(w))\n",
    "    #loss_locals.append(copy.deepcopy(loss))"
   ]
  },
  {
   "cell_type": "code",
   "execution_count": 18,
   "metadata": {},
   "outputs": [],
   "source": [
    "def multi_train_local22(q, idx):\n",
    "    print(\"user: \"+str(idx))\n",
    "    q.put(\"asdfasdfasdf\") "
   ]
  },
  {
   "cell_type": "code",
   "execution_count": 23,
   "metadata": {},
   "outputs": [],
   "source": [
    "#from torch.multiprocessing import Lock"
   ]
  },
  {
   "cell_type": "code",
   "execution_count": null,
   "metadata": {},
   "outputs": [],
   "source": []
  },
  {
   "cell_type": "code",
   "execution_count": 1,
   "metadata": {},
   "outputs": [],
   "source": [
    "#import torch.multiprocessing as mp\n",
    "#from torch.multiprocessing import Pool, Process, set_start_method, Queue\n",
    "from multiprocessing import Pool, Process, set_start_method, Queue\n",
    "import multiprocessing as mp\n",
    "import time\n",
    "from utils.multiprocessing import work\n",
    "\n",
    "\n",
    "\n",
    "if __name__ == '__main__':\n",
    "    \n",
    "\n",
    "    #torch.set_num_threads(1)\n",
    "    \n",
    "    set_start_method('spawn', force=True)\n",
    "    #ctx = mp.get_context('spawn')\n",
    "\n",
    "    loss_locals=[]\n",
    "    q_l = Queue()\n",
    "\n",
    "    procs=[]\n",
    "\n",
    "    p = Process(target=work, args=(0, q_l))\n",
    "    p.start()\n",
    "    p.join()\n",
    "        \n",
    "        \n",
    "        #w_locals.append(q_w.get())\n",
    "    "
   ]
  },
  {
   "cell_type": "code",
   "execution_count": 2,
   "metadata": {
    "scrolled": true
   },
   "outputs": [
    {
     "name": "stdout",
     "output_type": "stream",
     "text": [
      "asdfasdfasdf\n"
     ]
    }
   ],
   "source": [
    "print(q_l.get(p))"
   ]
  },
  {
   "cell_type": "code",
   "execution_count": 24,
   "metadata": {},
   "outputs": [],
   "source": [
    "def p(non_iid):\n",
    "    print(non_iid[0])\n",
    "    return"
   ]
  },
  {
   "cell_type": "code",
   "execution_count": 38,
   "metadata": {},
   "outputs": [
    {
     "data": {
      "text/plain": [
       "(2961,)"
      ]
     },
     "execution_count": 38,
     "metadata": {},
     "output_type": "execute_result"
    }
   ],
   "source": [
    "np.array(non_iid[0]).shape"
   ]
  },
  {
   "cell_type": "code",
   "execution_count": 37,
   "metadata": {},
   "outputs": [
    {
     "data": {
      "text/plain": [
       "tensor([ 7370, 26615, 26614,  ..., 23367, 15371,  4610])"
      ]
     },
     "execution_count": 37,
     "metadata": {},
     "output_type": "execute_result"
    }
   ],
   "source": [
    "non_iid[0]"
   ]
  },
  {
   "cell_type": "code",
   "execution_count": null,
   "metadata": {},
   "outputs": [],
   "source": []
  },
  {
   "cell_type": "code",
   "execution_count": null,
   "metadata": {},
   "outputs": [],
   "source": []
  },
  {
   "cell_type": "code",
   "execution_count": null,
   "metadata": {},
   "outputs": [],
   "source": []
  },
  {
   "cell_type": "code",
   "execution_count": 19,
   "metadata": {},
   "outputs": [],
   "source": [
    "from utils.multiprocessing import work, multi_train_local_dif\n",
    "from torch.utils.data.sampler import Sampler\n",
    "from torchvision import datasets, transforms\n",
    "import torch.multiprocessing as mp"
   ]
  },
  {
   "cell_type": "code",
   "execution_count": 20,
   "metadata": {},
   "outputs": [
    {
     "name": "stdout",
     "output_type": "stream",
     "text": [
      "asdf11\n",
      "asdf11\n",
      "ye: 0\n",
      "ye: 1\n",
      "ye22: [ 7370 26615 26614 ... 23367 15371  4610]\n",
      "asdf11\n",
      "ye22: [21808  4826 15174 ...  9455 11518  3440]\n",
      "ye: 2\n",
      "asdf22\n",
      "asdf11\n",
      "ye22: [11011 12102  7682 ... 20523  5095  5716]\n",
      "asdf22\n",
      "ye: 3\n",
      "11\n",
      "11\n",
      "asdf22\n",
      "asdf11\n",
      "ye22: [12493 12382 27569 ...   657  4583  6277]\n",
      "ye: 4\n",
      "asdf22\n",
      "11\n",
      "ye22: [ 1038 15847 28823 ... 23042  9676 29527]\n",
      "11\n",
      "asdf22\n",
      "11\n"
     ]
    },
    {
     "name": "stderr",
     "output_type": "stream",
     "text": [
      "Process Process-82:\n",
      "Process Process-81:\n",
      "Traceback (most recent call last):\n",
      "  File \"/home/imtl/.conda/envs/imtl/lib/python3.8/multiprocessing/process.py\", line 315, in _bootstrap\n",
      "    self.run()\n",
      "Traceback (most recent call last):\n",
      "Process Process-83:\n",
      "  File \"/home/imtl/.conda/envs/imtl/lib/python3.8/multiprocessing/process.py\", line 108, in run\n",
      "    self._target(*self._args, **self._kwargs)\n",
      "  File \"/home/imtl/.conda/envs/imtl/lib/python3.8/multiprocessing/process.py\", line 315, in _bootstrap\n",
      "    self.run()\n",
      "  File \"/home/imtl/!  personal projects/federated learning/federated-learning/utils/multiprocessing.py\", line 25, in multi_train_local_dif\n",
      "    w, loss = local.train(net=model.to(arguemnts.device))\n",
      "  File \"/home/imtl/.conda/envs/imtl/lib/python3.8/multiprocessing/process.py\", line 108, in run\n",
      "    self._target(*self._args, **self._kwargs)\n",
      "  File \"/home/imtl/!  personal projects/federated learning/federated-learning/models/Update.py\", line 65, in train\n",
      "    loss.backward()\n",
      "  File \"/home/imtl/!  personal projects/federated learning/federated-learning/utils/multiprocessing.py\", line 25, in multi_train_local_dif\n",
      "    w, loss = local.train(net=model.to(arguemnts.device))\n",
      "  File \"/home/imtl/!  personal projects/federated learning/federated-learning/models/Update.py\", line 65, in train\n",
      "    loss.backward()\n",
      "Process Process-84:\n",
      "Traceback (most recent call last):\n",
      "  File \"/home/imtl/.conda/envs/imtl/lib/python3.8/site-packages/torch/tensor.py\", line 198, in backward\n",
      "    torch.autograd.backward(self, gradient, retain_graph, create_graph)\n",
      "  File \"/home/imtl/.conda/envs/imtl/lib/python3.8/site-packages/torch/tensor.py\", line 198, in backward\n",
      "    torch.autograd.backward(self, gradient, retain_graph, create_graph)\n",
      "  File \"/home/imtl/.conda/envs/imtl/lib/python3.8/multiprocessing/process.py\", line 315, in _bootstrap\n",
      "    self.run()\n",
      "  File \"/home/imtl/.conda/envs/imtl/lib/python3.8/site-packages/torch/autograd/__init__.py\", line 98, in backward\n",
      "    Variable._execution_engine.run_backward(\n",
      "  File \"/home/imtl/.conda/envs/imtl/lib/python3.8/site-packages/torch/autograd/__init__.py\", line 98, in backward\n",
      "    Variable._execution_engine.run_backward(\n",
      "  File \"/home/imtl/.conda/envs/imtl/lib/python3.8/multiprocessing/process.py\", line 108, in run\n",
      "    self._target(*self._args, **self._kwargs)\n",
      "Traceback (most recent call last):\n",
      "RuntimeError: Unable to handle autograd's threading in combination with fork-based multiprocessing. See https://github.com/pytorch/pytorch/wiki/Autograd-and-Fork\n",
      "RuntimeError: Unable to handle autograd's threading in combination with fork-based multiprocessing. See https://github.com/pytorch/pytorch/wiki/Autograd-and-Fork\n",
      "  File \"/home/imtl/!  personal projects/federated learning/federated-learning/utils/multiprocessing.py\", line 25, in multi_train_local_dif\n",
      "    w, loss = local.train(net=model.to(arguemnts.device))\n",
      "  File \"/home/imtl/.conda/envs/imtl/lib/python3.8/multiprocessing/process.py\", line 315, in _bootstrap\n",
      "    self.run()\n",
      "Process Process-85:\n",
      "  File \"/home/imtl/.conda/envs/imtl/lib/python3.8/multiprocessing/process.py\", line 108, in run\n",
      "    self._target(*self._args, **self._kwargs)\n",
      "  File \"/home/imtl/!  personal projects/federated learning/federated-learning/utils/multiprocessing.py\", line 25, in multi_train_local_dif\n",
      "    w, loss = local.train(net=model.to(arguemnts.device))\n",
      "  File \"/home/imtl/!  personal projects/federated learning/federated-learning/models/Update.py\", line 65, in train\n",
      "    loss.backward()\n",
      "  File \"/home/imtl/!  personal projects/federated learning/federated-learning/models/Update.py\", line 65, in train\n",
      "    loss.backward()\n",
      "  File \"/home/imtl/.conda/envs/imtl/lib/python3.8/site-packages/torch/tensor.py\", line 198, in backward\n",
      "    torch.autograd.backward(self, gradient, retain_graph, create_graph)\n",
      "Traceback (most recent call last):\n",
      "  File \"/home/imtl/.conda/envs/imtl/lib/python3.8/site-packages/torch/tensor.py\", line 198, in backward\n",
      "    torch.autograd.backward(self, gradient, retain_graph, create_graph)\n",
      "  File \"/home/imtl/.conda/envs/imtl/lib/python3.8/site-packages/torch/autograd/__init__.py\", line 98, in backward\n",
      "    Variable._execution_engine.run_backward(\n",
      "  File \"/home/imtl/.conda/envs/imtl/lib/python3.8/multiprocessing/process.py\", line 315, in _bootstrap\n",
      "    self.run()\n",
      "  File \"/home/imtl/.conda/envs/imtl/lib/python3.8/site-packages/torch/autograd/__init__.py\", line 98, in backward\n",
      "    Variable._execution_engine.run_backward(\n",
      "  File \"/home/imtl/.conda/envs/imtl/lib/python3.8/multiprocessing/process.py\", line 108, in run\n",
      "    self._target(*self._args, **self._kwargs)\n",
      "RuntimeError: Unable to handle autograd's threading in combination with fork-based multiprocessing. See https://github.com/pytorch/pytorch/wiki/Autograd-and-Fork\n",
      "RuntimeError: Unable to handle autograd's threading in combination with fork-based multiprocessing. See https://github.com/pytorch/pytorch/wiki/Autograd-and-Fork\n",
      "  File \"/home/imtl/!  personal projects/federated learning/federated-learning/utils/multiprocessing.py\", line 25, in multi_train_local_dif\n",
      "    w, loss = local.train(net=model.to(arguemnts.device))\n",
      "  File \"/home/imtl/!  personal projects/federated learning/federated-learning/models/Update.py\", line 65, in train\n",
      "    loss.backward()\n",
      "  File \"/home/imtl/.conda/envs/imtl/lib/python3.8/site-packages/torch/tensor.py\", line 198, in backward\n",
      "    torch.autograd.backward(self, gradient, retain_graph, create_graph)\n",
      "  File \"/home/imtl/.conda/envs/imtl/lib/python3.8/site-packages/torch/autograd/__init__.py\", line 98, in backward\n",
      "    Variable._execution_engine.run_backward(\n",
      "RuntimeError: Unable to handle autograd's threading in combination with fork-based multiprocessing. See https://github.com/pytorch/pytorch/wiki/Autograd-and-Fork\n"
     ]
    }
   ],
   "source": [
    "\n",
    "\n",
    "\n",
    "if __name__ == '__main__':\n",
    "    \n",
    "    # training\n",
    "    mp.set_start_method('spawn', force=True)\n",
    "    sloss2 = F.cross_entropy\n",
    "    #sloss2 = SmoothCrossEntropyLoss(smoothing=0.3)\n",
    "\n",
    "    torch.set_num_threads(1)\n",
    "    \n",
    "    #set_start_method('spawn', force=True)\n",
    "    #ctx = mp.get_context('spawn')\n",
    "\n",
    "    loss_locals=[]\n",
    "    w_locals=[]\n",
    "    procs=[]\n",
    "    \n",
    "    \n",
    "    net_glob.share_memory()\n",
    "    \n",
    "    q_l = mp.Queue()\n",
    "    q_w = mp.Queue()\n",
    "    #l = Lock()\n",
    "    \n",
    "    procs=[]\n",
    "    \n",
    "    for i in range(5):\n",
    "\n",
    "        p = mp.Process(target=multi_train_local_dif, args=(q_l, q_w, args, i, sloss2, local_train_loader, non_iid, net_glob))\n",
    "        procs.append(p)\n",
    "        p.start()\n",
    "\n",
    "    \n",
    "    for p in procs:\n",
    "        p.join()\n",
    "        #\n",
    "\n",
    "\n"
   ]
  },
  {
   "cell_type": "code",
   "execution_count": null,
   "metadata": {},
   "outputs": [],
   "source": []
  },
  {
   "cell_type": "code",
   "execution_count": 24,
   "metadata": {},
   "outputs": [],
   "source": [
    "from utils.multiprocessing import work, multi_train_local_dif\n"
   ]
  },
  {
   "cell_type": "code",
   "execution_count": 25,
   "metadata": {
    "scrolled": true
   },
   "outputs": [],
   "source": [
    "import multiprocessing as mp\n",
    "from multiprocessing import Pool, Process, set_start_method, Queue\n",
    "import time\n",
    "\n",
    "\n",
    "if __name__ == '__main__':\n",
    "    \n",
    "    # training\n",
    "    #optimizer2 = optim.SGD(net_glob.parameters(), lr=args.lr, momentum=args.momentum)\n",
    "    #optimizer2.zero_grad()\n",
    "    sloss2 = F.cross_entropy\n",
    "    #sloss2 = SmoothCrossEntropyLoss(smoothing=0.3)\n",
    "\n",
    "    torch.set_num_threads(1)\n",
    "    \n",
    "    set_start_method('spawn', force=True)\n",
    "    #ctx = mp.get_context('spawn')\n",
    "\n",
    "    loss_locals=[]\n",
    "    w_locals=[]\n",
    "    procs=[]\n",
    "    \n",
    "    \n",
    "    net_glob.share_memory()\n",
    "    \n",
    "    q_l = Queue()\n",
    "    q_w = Queue()\n",
    "    #l = Lock()\n",
    "    \n",
    "    procs=[]\n",
    "    \n",
    "    for i in range(2):\n",
    "\n",
    "        checkpoint_globalnet11 = copy.deepcopy(net_glob)\n",
    "        checkpoint_globalnet11.share_memory()        \n",
    "        p = Process(target=multi_train_local_dif, args=(q_l, q_w, args, i, sloss2, local_train_loader, non_iid, checkpoint_globalnet11))\n",
    "        procs.append(p)\n",
    "        p.start()\n",
    "    \n",
    "        \n",
    "    #\n",
    "\n",
    "\n"
   ]
  },
  {
   "cell_type": "code",
   "execution_count": null,
   "metadata": {},
   "outputs": [],
   "source": [
    "while not q_l.empty():\n",
    "    loss_locals.append(q_l.get())\n",
    "    \n",
    "while not q_w.empty():    \n",
    "    w_locals.append(q_w.get())"
   ]
  },
  {
   "cell_type": "code",
   "execution_count": 27,
   "metadata": {
    "scrolled": true
   },
   "outputs": [],
   "source": [
    "for proc in procs:\n",
    "    proc.join()"
   ]
  },
  {
   "cell_type": "code",
   "execution_count": 28,
   "metadata": {},
   "outputs": [
    {
     "data": {
      "text/plain": [
       "[0.012599757862104094, 0.01322289594283547]"
      ]
     },
     "execution_count": 28,
     "metadata": {},
     "output_type": "execute_result"
    }
   ],
   "source": [
    "loss_locals"
   ]
  },
  {
   "cell_type": "code",
   "execution_count": null,
   "metadata": {},
   "outputs": [],
   "source": []
  },
  {
   "cell_type": "code",
   "execution_count": null,
   "metadata": {},
   "outputs": [],
   "source": []
  },
  {
   "cell_type": "code",
   "execution_count": null,
   "metadata": {},
   "outputs": [],
   "source": []
  },
  {
   "cell_type": "code",
   "execution_count": 22,
   "metadata": {
    "scrolled": true
   },
   "outputs": [
    {
     "name": "stdout",
     "output_type": "stream",
     "text": [
      "11\n",
      "Local user 0 -- Update Epoch: 0 [0/2961 (0%)]\tLoss: 1.855603\n",
      "Local user 0 -- Update Epoch: 0 [100/2961 (3%)]\tLoss: 1.603838\n",
      "Local user 0 -- Update Epoch: 0 [200/2961 (7%)]\tLoss: 1.384777\n",
      "Local user 0 -- Update Epoch: 0 [300/2961 (10%)]\tLoss: 1.463539\n",
      "Local user 0 -- Update Epoch: 0 [400/2961 (13%)]\tLoss: 1.503450\n",
      "Local user 0 -- Update Epoch: 0 [500/2961 (17%)]\tLoss: 1.387912\n",
      "Local user 0 -- Update Epoch: 0 [600/2961 (20%)]\tLoss: 1.429173\n",
      "Local user 0 -- Update Epoch: 0 [700/2961 (24%)]\tLoss: 1.405012\n",
      "Local user 0 -- Update Epoch: 0 [800/2961 (27%)]\tLoss: 1.364068\n",
      "Local user 0 -- Update Epoch: 0 [900/2961 (30%)]\tLoss: 1.419612\n",
      "Local user 0 -- Update Epoch: 0 [1000/2961 (34%)]\tLoss: 1.369678\n",
      "Local user 0 -- Update Epoch: 0 [1100/2961 (37%)]\tLoss: 1.424651\n",
      "Local user 0 -- Update Epoch: 0 [1200/2961 (40%)]\tLoss: 1.397029\n",
      "Local user 0 -- Update Epoch: 0 [1300/2961 (44%)]\tLoss: 1.404231\n",
      "Local user 0 -- Update Epoch: 0 [1400/2961 (47%)]\tLoss: 1.361458\n",
      "Local user 0 -- Update Epoch: 0 [1500/2961 (51%)]\tLoss: 1.423403\n",
      "Local user 0 -- Update Epoch: 0 [1600/2961 (54%)]\tLoss: 1.382034\n",
      "Local user 0 -- Update Epoch: 0 [1700/2961 (57%)]\tLoss: 1.366475\n",
      "Local user 0 -- Update Epoch: 0 [1800/2961 (61%)]\tLoss: 1.377216\n",
      "Local user 0 -- Update Epoch: 0 [1900/2961 (64%)]\tLoss: 1.342664\n",
      "Local user 0 -- Update Epoch: 0 [2000/2961 (67%)]\tLoss: 1.330659\n",
      "Local user 0 -- Update Epoch: 0 [2100/2961 (71%)]\tLoss: 1.320536\n",
      "Local user 0 -- Update Epoch: 0 [2200/2961 (74%)]\tLoss: 1.331217\n",
      "Local user 0 -- Update Epoch: 0 [2300/2961 (77%)]\tLoss: 1.323138\n",
      "Local user 0 -- Update Epoch: 0 [2400/2961 (81%)]\tLoss: 1.324404\n",
      "Local user 0 -- Update Epoch: 0 [2500/2961 (84%)]\tLoss: 1.341994\n",
      "Local user 0 -- Update Epoch: 0 [2600/2961 (88%)]\tLoss: 1.349145\n",
      "Local user 0 -- Update Epoch: 0 [2700/2961 (91%)]\tLoss: 1.340045\n",
      "Local user 0 -- Update Epoch: 0 [2800/2961 (94%)]\tLoss: 1.335896\n",
      "Local user 0 -- Update Epoch: 0 [2900/2961 (98%)]\tLoss: 1.361423\n",
      "11\n",
      "Local user 1 -- Update Epoch: 0 [0/3371 (0%)]\tLoss: 1.897630\n",
      "Local user 1 -- Update Epoch: 0 [100/3371 (3%)]\tLoss: 1.528684\n",
      "Local user 1 -- Update Epoch: 0 [200/3371 (6%)]\tLoss: 1.360813\n",
      "Local user 1 -- Update Epoch: 0 [300/3371 (9%)]\tLoss: 1.454417\n",
      "Local user 1 -- Update Epoch: 0 [400/3371 (12%)]\tLoss: 1.420106\n",
      "Local user 1 -- Update Epoch: 0 [500/3371 (15%)]\tLoss: 1.451827\n",
      "Local user 1 -- Update Epoch: 0 [600/3371 (18%)]\tLoss: 1.395170\n",
      "Local user 1 -- Update Epoch: 0 [700/3371 (21%)]\tLoss: 1.490448\n",
      "Local user 1 -- Update Epoch: 0 [800/3371 (24%)]\tLoss: 1.371752\n",
      "Local user 1 -- Update Epoch: 0 [900/3371 (27%)]\tLoss: 1.374112\n",
      "Local user 1 -- Update Epoch: 0 [1000/3371 (30%)]\tLoss: 1.412713\n",
      "Local user 1 -- Update Epoch: 0 [1100/3371 (33%)]\tLoss: 1.368963\n",
      "Local user 1 -- Update Epoch: 0 [1200/3371 (36%)]\tLoss: 1.386536\n",
      "Local user 1 -- Update Epoch: 0 [1300/3371 (38%)]\tLoss: 1.340908\n",
      "Local user 1 -- Update Epoch: 0 [1400/3371 (41%)]\tLoss: 1.351090\n",
      "Local user 1 -- Update Epoch: 0 [1500/3371 (44%)]\tLoss: 1.399417\n",
      "Local user 1 -- Update Epoch: 0 [1600/3371 (47%)]\tLoss: 1.352814\n",
      "Local user 1 -- Update Epoch: 0 [1700/3371 (50%)]\tLoss: 1.385276\n",
      "Local user 1 -- Update Epoch: 0 [1800/3371 (53%)]\tLoss: 1.312501\n",
      "Local user 1 -- Update Epoch: 0 [1900/3371 (56%)]\tLoss: 1.372662\n",
      "Local user 1 -- Update Epoch: 0 [2000/3371 (59%)]\tLoss: 1.379508\n",
      "Local user 1 -- Update Epoch: 0 [2100/3371 (62%)]\tLoss: 1.378549\n",
      "Local user 1 -- Update Epoch: 0 [2200/3371 (65%)]\tLoss: 1.342836\n",
      "Local user 1 -- Update Epoch: 0 [2300/3371 (68%)]\tLoss: 1.359849\n",
      "Local user 1 -- Update Epoch: 0 [2400/3371 (71%)]\tLoss: 1.375661\n",
      "Local user 1 -- Update Epoch: 0 [2500/3371 (74%)]\tLoss: 1.335628\n",
      "Local user 1 -- Update Epoch: 0 [2600/3371 (77%)]\tLoss: 1.327062\n",
      "Local user 1 -- Update Epoch: 0 [2700/3371 (80%)]\tLoss: 1.337957\n",
      "Local user 1 -- Update Epoch: 0 [2800/3371 (83%)]\tLoss: 1.313376\n",
      "Local user 1 -- Update Epoch: 0 [2900/3371 (86%)]\tLoss: 1.367253\n",
      "Local user 1 -- Update Epoch: 0 [3000/3371 (89%)]\tLoss: 1.364170\n",
      "Local user 1 -- Update Epoch: 0 [3100/3371 (92%)]\tLoss: 1.324678\n",
      "Local user 1 -- Update Epoch: 0 [3200/3371 (95%)]\tLoss: 1.370186\n",
      "Local user 1 -- Update Epoch: 0 [3300/3371 (98%)]\tLoss: 1.319634\n"
     ]
    },
    {
     "ename": "TypeError",
     "evalue": "unsupported format string passed to builtin_function_or_method.__format__",
     "output_type": "error",
     "traceback": [
      "\u001b[0;31m---------------------------------------------------------------------------\u001b[0m",
      "\u001b[0;31mTypeError\u001b[0m                                 Traceback (most recent call last)",
      "\u001b[0;32m<ipython-input-22-4969319b565d>\u001b[0m in \u001b[0;36m<module>\u001b[0;34m\u001b[0m\n\u001b[1;32m     15\u001b[0m \u001b[0mcheckpoint_globalnet22\u001b[0m\u001b[0;34m.\u001b[0m\u001b[0mload_state_dict\u001b[0m\u001b[0;34m(\u001b[0m\u001b[0mw_glob\u001b[0m\u001b[0;34m)\u001b[0m\u001b[0;34m\u001b[0m\u001b[0;34m\u001b[0m\u001b[0m\n\u001b[1;32m     16\u001b[0m \u001b[0mloss_avg\u001b[0m \u001b[0;34m=\u001b[0m \u001b[0msum\u001b[0m\u001b[0;34m(\u001b[0m\u001b[0mloss_locals\u001b[0m\u001b[0;34m)\u001b[0m \u001b[0;34m/\u001b[0m \u001b[0mlen\u001b[0m\u001b[0;34m(\u001b[0m\u001b[0mloss_locals\u001b[0m\u001b[0;34m)\u001b[0m\u001b[0;34m\u001b[0m\u001b[0;34m\u001b[0m\u001b[0m\n\u001b[0;32m---> 17\u001b[0;31m \u001b[0mprint\u001b[0m\u001b[0;34m(\u001b[0m\u001b[0;34m'Round {:3d}, Average loss {:.3f}'\u001b[0m\u001b[0;34m.\u001b[0m\u001b[0mformat\u001b[0m\u001b[0;34m(\u001b[0m\u001b[0miter\u001b[0m\u001b[0;34m,\u001b[0m \u001b[0mloss_avg\u001b[0m\u001b[0;34m)\u001b[0m\u001b[0;34m)\u001b[0m\u001b[0;34m\u001b[0m\u001b[0;34m\u001b[0m\u001b[0m\n\u001b[0m\u001b[1;32m     18\u001b[0m \u001b[0;34m\u001b[0m\u001b[0m\n\u001b[1;32m     19\u001b[0m \u001b[0mtest_model\u001b[0m\u001b[0;34m(\u001b[0m\u001b[0mcheckpoint_globalnet22\u001b[0m\u001b[0;34m,\u001b[0m \u001b[0mtest_loader\u001b[0m\u001b[0;34m,\u001b[0m \u001b[0msloss\u001b[0m\u001b[0;34m)\u001b[0m\u001b[0;34m\u001b[0m\u001b[0;34m\u001b[0m\u001b[0m\n",
      "\u001b[0;31mTypeError\u001b[0m: unsupported format string passed to builtin_function_or_method.__format__"
     ]
    }
   ],
   "source": [
    "checkpoint_globalnet22 = copy.deepcopy(net_glob)\n",
    "\n",
    "checkpoint_globalnet22.train()\n",
    "loss_locals = []\n",
    "w_locals = []\n",
    "for idx in range(args.num_users):\n",
    "\n",
    "\n",
    "    local = LocalUpdate(args=args, user_num=idx, loss_func=sloss, dataset=local_train_loader.dataset, idxs=non_iid[idx])\n",
    "    w, loss = local.train(net=copy.deepcopy(checkpoint_globalnet22).to(args.device))\n",
    "    w_locals.append(copy.deepcopy(w))\n",
    "    loss_locals.append(copy.deepcopy(loss))\n",
    "\n",
    "w_glob = FedAvg(w_locals)\n",
    "checkpoint_globalnet22.load_state_dict(w_glob)\n",
    "loss_avg = sum(loss_locals) / len(loss_locals)\n",
    "print('Round {:3d}, Average loss {:.3f}'.format(iter, loss_avg))\n",
    "\n",
    "test_model(checkpoint_globalnet22, test_loader, sloss)\n"
   ]
  },
  {
   "cell_type": "code",
   "execution_count": 29,
   "metadata": {},
   "outputs": [
    {
     "name": "stdout",
     "output_type": "stream",
     "text": [
      "\n",
      "Test set: Average loss: 0.00230 \n",
      "Accuracy: 1365/10000 (13.65%)\n",
      "\n"
     ]
    }
   ],
   "source": [
    "test_model(checkpoint_globalnet22, test_loader, sloss)\n"
   ]
  },
  {
   "cell_type": "code",
   "execution_count": 25,
   "metadata": {
    "scrolled": true
   },
   "outputs": [
    {
     "name": "stdout",
     "output_type": "stream",
     "text": [
      "11\n",
      "Local user 0 -- Update Epoch: 0 [0/2961 (0%)]\tLoss: 2.062182\n",
      "Local user 0 -- Update Epoch: 0 [100/2961 (3%)]\tLoss: 0.210519\n",
      "Local user 0 -- Update Epoch: 0 [200/2961 (7%)]\tLoss: 0.002557\n",
      "Local user 0 -- Update Epoch: 0 [300/2961 (10%)]\tLoss: 0.024340\n",
      "Local user 0 -- Update Epoch: 0 [400/2961 (13%)]\tLoss: 0.089091\n",
      "Local user 0 -- Update Epoch: 0 [500/2961 (17%)]\tLoss: 0.000027\n",
      "Local user 0 -- Update Epoch: 0 [600/2961 (20%)]\tLoss: 0.044405\n",
      "Local user 0 -- Update Epoch: 0 [700/2961 (24%)]\tLoss: 0.002056\n",
      "Local user 0 -- Update Epoch: 0 [800/2961 (27%)]\tLoss: 0.001303\n",
      "Local user 0 -- Update Epoch: 0 [900/2961 (30%)]\tLoss: 0.000543\n",
      "Local user 0 -- Update Epoch: 0 [1000/2961 (34%)]\tLoss: 0.002419\n",
      "Local user 0 -- Update Epoch: 0 [1100/2961 (37%)]\tLoss: 0.000297\n",
      "Local user 0 -- Update Epoch: 0 [1200/2961 (40%)]\tLoss: 0.000001\n",
      "Local user 0 -- Update Epoch: 0 [1300/2961 (44%)]\tLoss: 0.001437\n",
      "Local user 0 -- Update Epoch: 0 [1400/2961 (47%)]\tLoss: 0.000051\n",
      "Local user 0 -- Update Epoch: 0 [1500/2961 (51%)]\tLoss: 0.004101\n",
      "Local user 0 -- Update Epoch: 0 [1600/2961 (54%)]\tLoss: 0.000051\n",
      "Local user 0 -- Update Epoch: 0 [1700/2961 (57%)]\tLoss: 0.000000\n",
      "Local user 0 -- Update Epoch: 0 [1800/2961 (61%)]\tLoss: 0.000035\n",
      "Local user 0 -- Update Epoch: 0 [1900/2961 (64%)]\tLoss: 0.000004\n",
      "Local user 0 -- Update Epoch: 0 [2000/2961 (67%)]\tLoss: 0.001116\n",
      "Local user 0 -- Update Epoch: 0 [2100/2961 (71%)]\tLoss: 0.000015\n",
      "Local user 0 -- Update Epoch: 0 [2200/2961 (74%)]\tLoss: 0.000008\n",
      "Local user 0 -- Update Epoch: 0 [2300/2961 (77%)]\tLoss: 0.000001\n",
      "Local user 0 -- Update Epoch: 0 [2400/2961 (81%)]\tLoss: 0.000001\n",
      "Local user 0 -- Update Epoch: 0 [2500/2961 (84%)]\tLoss: 0.000000\n",
      "Local user 0 -- Update Epoch: 0 [2600/2961 (88%)]\tLoss: 0.000149\n",
      "Local user 0 -- Update Epoch: 0 [2700/2961 (91%)]\tLoss: 0.000003\n",
      "Local user 0 -- Update Epoch: 0 [2800/2961 (94%)]\tLoss: 0.000061\n",
      "Local user 0 -- Update Epoch: 0 [2900/2961 (98%)]\tLoss: 0.000000\n",
      "11\n",
      "Local user 1 -- Update Epoch: 0 [0/3371 (0%)]\tLoss: 1.783881\n",
      "Local user 1 -- Update Epoch: 0 [100/3371 (3%)]\tLoss: 0.124908\n",
      "Local user 1 -- Update Epoch: 0 [200/3371 (6%)]\tLoss: 0.041978\n",
      "Local user 1 -- Update Epoch: 0 [300/3371 (9%)]\tLoss: 0.029348\n",
      "Local user 1 -- Update Epoch: 0 [400/3371 (12%)]\tLoss: 0.000734\n",
      "Local user 1 -- Update Epoch: 0 [500/3371 (15%)]\tLoss: 0.006661\n",
      "Local user 1 -- Update Epoch: 0 [600/3371 (18%)]\tLoss: 0.021146\n",
      "Local user 1 -- Update Epoch: 0 [700/3371 (21%)]\tLoss: 0.012909\n",
      "Local user 1 -- Update Epoch: 0 [800/3371 (24%)]\tLoss: 0.000219\n",
      "Local user 1 -- Update Epoch: 0 [900/3371 (27%)]\tLoss: 0.000388\n",
      "Local user 1 -- Update Epoch: 0 [1000/3371 (30%)]\tLoss: 0.001531\n",
      "Local user 1 -- Update Epoch: 0 [1100/3371 (33%)]\tLoss: 0.005434\n",
      "Local user 1 -- Update Epoch: 0 [1200/3371 (36%)]\tLoss: 0.000110\n",
      "Local user 1 -- Update Epoch: 0 [1300/3371 (38%)]\tLoss: 0.000709\n",
      "Local user 1 -- Update Epoch: 0 [1400/3371 (41%)]\tLoss: 0.000646\n",
      "Local user 1 -- Update Epoch: 0 [1500/3371 (44%)]\tLoss: 0.002482\n",
      "Local user 1 -- Update Epoch: 0 [1600/3371 (47%)]\tLoss: 0.000001\n",
      "Local user 1 -- Update Epoch: 0 [1700/3371 (50%)]\tLoss: 0.000106\n",
      "Local user 1 -- Update Epoch: 0 [1800/3371 (53%)]\tLoss: 0.000107\n",
      "Local user 1 -- Update Epoch: 0 [1900/3371 (56%)]\tLoss: 0.001865\n",
      "Local user 1 -- Update Epoch: 0 [2000/3371 (59%)]\tLoss: 0.000011\n",
      "Local user 1 -- Update Epoch: 0 [2100/3371 (62%)]\tLoss: 0.000025\n",
      "Local user 1 -- Update Epoch: 0 [2200/3371 (65%)]\tLoss: 0.000010\n",
      "Local user 1 -- Update Epoch: 0 [2300/3371 (68%)]\tLoss: 0.000046\n",
      "Local user 1 -- Update Epoch: 0 [2400/3371 (71%)]\tLoss: 0.000120\n",
      "Local user 1 -- Update Epoch: 0 [2500/3371 (74%)]\tLoss: 0.000093\n"
     ]
    },
    {
     "ename": "KeyboardInterrupt",
     "evalue": "",
     "output_type": "error",
     "traceback": [
      "\u001b[0;31m---------------------------------------------------------------------------\u001b[0m",
      "\u001b[0;31mKeyboardInterrupt\u001b[0m                         Traceback (most recent call last)",
      "\u001b[0;32m<ipython-input-25-6f9dbaae721b>\u001b[0m in \u001b[0;36m<module>\u001b[0;34m\u001b[0m\n\u001b[1;32m     10\u001b[0m \u001b[0;34m\u001b[0m\u001b[0m\n\u001b[1;32m     11\u001b[0m         \u001b[0mlocal\u001b[0m \u001b[0;34m=\u001b[0m \u001b[0mLocalUpdate\u001b[0m\u001b[0;34m(\u001b[0m\u001b[0margs\u001b[0m\u001b[0;34m=\u001b[0m\u001b[0margs\u001b[0m\u001b[0;34m,\u001b[0m \u001b[0muser_num\u001b[0m\u001b[0;34m=\u001b[0m\u001b[0midx\u001b[0m\u001b[0;34m,\u001b[0m \u001b[0mloss_func\u001b[0m\u001b[0;34m=\u001b[0m\u001b[0msloss\u001b[0m\u001b[0;34m,\u001b[0m \u001b[0mdataset\u001b[0m\u001b[0;34m=\u001b[0m\u001b[0mlocal_train_loader\u001b[0m\u001b[0;34m.\u001b[0m\u001b[0mdataset\u001b[0m\u001b[0;34m,\u001b[0m \u001b[0midxs\u001b[0m\u001b[0;34m=\u001b[0m\u001b[0mnon_iid\u001b[0m\u001b[0;34m[\u001b[0m\u001b[0midx\u001b[0m\u001b[0;34m]\u001b[0m\u001b[0;34m)\u001b[0m\u001b[0;34m\u001b[0m\u001b[0;34m\u001b[0m\u001b[0m\n\u001b[0;32m---> 12\u001b[0;31m         \u001b[0mw\u001b[0m\u001b[0;34m,\u001b[0m \u001b[0mloss\u001b[0m \u001b[0;34m=\u001b[0m \u001b[0mlocal\u001b[0m\u001b[0;34m.\u001b[0m\u001b[0mtrain\u001b[0m\u001b[0;34m(\u001b[0m\u001b[0mnet\u001b[0m\u001b[0;34m=\u001b[0m\u001b[0mcopy\u001b[0m\u001b[0;34m.\u001b[0m\u001b[0mdeepcopy\u001b[0m\u001b[0;34m(\u001b[0m\u001b[0mnet_glob\u001b[0m\u001b[0;34m)\u001b[0m\u001b[0;34m.\u001b[0m\u001b[0mto\u001b[0m\u001b[0;34m(\u001b[0m\u001b[0margs\u001b[0m\u001b[0;34m.\u001b[0m\u001b[0mdevice\u001b[0m\u001b[0;34m)\u001b[0m\u001b[0;34m)\u001b[0m\u001b[0;34m\u001b[0m\u001b[0;34m\u001b[0m\u001b[0m\n\u001b[0m\u001b[1;32m     13\u001b[0m         \u001b[0mw_locals\u001b[0m\u001b[0;34m.\u001b[0m\u001b[0mappend\u001b[0m\u001b[0;34m(\u001b[0m\u001b[0mcopy\u001b[0m\u001b[0;34m.\u001b[0m\u001b[0mdeepcopy\u001b[0m\u001b[0;34m(\u001b[0m\u001b[0mw\u001b[0m\u001b[0;34m)\u001b[0m\u001b[0;34m)\u001b[0m\u001b[0;34m\u001b[0m\u001b[0;34m\u001b[0m\u001b[0m\n\u001b[1;32m     14\u001b[0m         \u001b[0mloss_locals\u001b[0m\u001b[0;34m.\u001b[0m\u001b[0mappend\u001b[0m\u001b[0;34m(\u001b[0m\u001b[0mcopy\u001b[0m\u001b[0;34m.\u001b[0m\u001b[0mdeepcopy\u001b[0m\u001b[0;34m(\u001b[0m\u001b[0mloss\u001b[0m\u001b[0;34m)\u001b[0m\u001b[0;34m)\u001b[0m\u001b[0;34m\u001b[0m\u001b[0;34m\u001b[0m\u001b[0m\n",
      "\u001b[0;32m~/!  personal projects/federated learning/federated-learning/models/Update.py\u001b[0m in \u001b[0;36mtrain\u001b[0;34m(self, net)\u001b[0m\n\u001b[1;32m     62\u001b[0m                 \u001b[0mloss\u001b[0m \u001b[0;34m=\u001b[0m \u001b[0mself\u001b[0m\u001b[0;34m.\u001b[0m\u001b[0mloss_func\u001b[0m\u001b[0;34m(\u001b[0m\u001b[0mlog_probs\u001b[0m\u001b[0;34m,\u001b[0m \u001b[0mlabels\u001b[0m\u001b[0;34m)\u001b[0m\u001b[0;34m\u001b[0m\u001b[0;34m\u001b[0m\u001b[0m\n\u001b[1;32m     63\u001b[0m                 \u001b[0;31m#print(\"77\")\u001b[0m\u001b[0;34m\u001b[0m\u001b[0;34m\u001b[0m\u001b[0;34m\u001b[0m\u001b[0m\n\u001b[0;32m---> 64\u001b[0;31m                 \u001b[0mloss\u001b[0m\u001b[0;34m.\u001b[0m\u001b[0mbackward\u001b[0m\u001b[0;34m(\u001b[0m\u001b[0;34m)\u001b[0m\u001b[0;34m\u001b[0m\u001b[0;34m\u001b[0m\u001b[0m\n\u001b[0m\u001b[1;32m     65\u001b[0m                 \u001b[0moptimizer\u001b[0m\u001b[0;34m.\u001b[0m\u001b[0mstep\u001b[0m\u001b[0;34m(\u001b[0m\u001b[0;34m)\u001b[0m\u001b[0;34m\u001b[0m\u001b[0;34m\u001b[0m\u001b[0m\n\u001b[1;32m     66\u001b[0m                 \u001b[0;32mif\u001b[0m \u001b[0mself\u001b[0m\u001b[0;34m.\u001b[0m\u001b[0margs\u001b[0m\u001b[0;34m.\u001b[0m\u001b[0mverbose\u001b[0m \u001b[0;32mand\u001b[0m \u001b[0mbatch_idx\u001b[0m \u001b[0;34m%\u001b[0m \u001b[0;36m10\u001b[0m \u001b[0;34m==\u001b[0m \u001b[0;36m0\u001b[0m\u001b[0;34m:\u001b[0m\u001b[0;34m\u001b[0m\u001b[0;34m\u001b[0m\u001b[0m\n",
      "\u001b[0;32m~/.conda/envs/imtl/lib/python3.8/site-packages/torch/tensor.py\u001b[0m in \u001b[0;36mbackward\u001b[0;34m(self, gradient, retain_graph, create_graph)\u001b[0m\n\u001b[1;32m    196\u001b[0m                 \u001b[0mproducts\u001b[0m\u001b[0;34m.\u001b[0m \u001b[0mDefaults\u001b[0m \u001b[0mto\u001b[0m\u001b[0;31m \u001b[0m\u001b[0;31m`\u001b[0m\u001b[0;31m`\u001b[0m\u001b[0;32mFalse\u001b[0m\u001b[0;31m`\u001b[0m\u001b[0;31m`\u001b[0m\u001b[0;34m.\u001b[0m\u001b[0;34m\u001b[0m\u001b[0;34m\u001b[0m\u001b[0m\n\u001b[1;32m    197\u001b[0m         \"\"\"\n\u001b[0;32m--> 198\u001b[0;31m         \u001b[0mtorch\u001b[0m\u001b[0;34m.\u001b[0m\u001b[0mautograd\u001b[0m\u001b[0;34m.\u001b[0m\u001b[0mbackward\u001b[0m\u001b[0;34m(\u001b[0m\u001b[0mself\u001b[0m\u001b[0;34m,\u001b[0m \u001b[0mgradient\u001b[0m\u001b[0;34m,\u001b[0m \u001b[0mretain_graph\u001b[0m\u001b[0;34m,\u001b[0m \u001b[0mcreate_graph\u001b[0m\u001b[0;34m)\u001b[0m\u001b[0;34m\u001b[0m\u001b[0;34m\u001b[0m\u001b[0m\n\u001b[0m\u001b[1;32m    199\u001b[0m \u001b[0;34m\u001b[0m\u001b[0m\n\u001b[1;32m    200\u001b[0m     \u001b[0;32mdef\u001b[0m \u001b[0mregister_hook\u001b[0m\u001b[0;34m(\u001b[0m\u001b[0mself\u001b[0m\u001b[0;34m,\u001b[0m \u001b[0mhook\u001b[0m\u001b[0;34m)\u001b[0m\u001b[0;34m:\u001b[0m\u001b[0;34m\u001b[0m\u001b[0;34m\u001b[0m\u001b[0m\n",
      "\u001b[0;32m~/.conda/envs/imtl/lib/python3.8/site-packages/torch/autograd/__init__.py\u001b[0m in \u001b[0;36mbackward\u001b[0;34m(tensors, grad_tensors, retain_graph, create_graph, grad_variables)\u001b[0m\n\u001b[1;32m     96\u001b[0m         \u001b[0mretain_graph\u001b[0m \u001b[0;34m=\u001b[0m \u001b[0mcreate_graph\u001b[0m\u001b[0;34m\u001b[0m\u001b[0;34m\u001b[0m\u001b[0m\n\u001b[1;32m     97\u001b[0m \u001b[0;34m\u001b[0m\u001b[0m\n\u001b[0;32m---> 98\u001b[0;31m     Variable._execution_engine.run_backward(\n\u001b[0m\u001b[1;32m     99\u001b[0m         \u001b[0mtensors\u001b[0m\u001b[0;34m,\u001b[0m \u001b[0mgrad_tensors\u001b[0m\u001b[0;34m,\u001b[0m \u001b[0mretain_graph\u001b[0m\u001b[0;34m,\u001b[0m \u001b[0mcreate_graph\u001b[0m\u001b[0;34m,\u001b[0m\u001b[0;34m\u001b[0m\u001b[0;34m\u001b[0m\u001b[0m\n\u001b[1;32m    100\u001b[0m         allow_unreachable=True)  # allow_unreachable flag\n",
      "\u001b[0;31mKeyboardInterrupt\u001b[0m: "
     ]
    }
   ],
   "source": [
    "for iter in range(args.epochs):\n",
    "    net_glob.train()\n",
    "    loss_locals = []\n",
    "    w_locals = []\n",
    "    #m = max(int(args.frac * args.num_users), 1)\n",
    "    #idxs_users = np.random.choice(range(args.num_users), m, replace=False)\n",
    "    \n",
    "    for idx in range(args.num_users):\n",
    "\n",
    "        \n",
    "        local = LocalUpdate(args=args, user_num=idx, loss_func=sloss, dataset=local_train_loader.dataset, idxs=non_iid[idx])\n",
    "        w, loss = local.train(net=copy.deepcopy(net_glob).to(args.device))\n",
    "        w_locals.append(copy.deepcopy(w))\n",
    "        loss_locals.append(copy.deepcopy(loss))\n",
    "    \n",
    "    w_glob = FedAvg(w_locals)\n",
    "    net_glob.load_state_dict(w_glob)\n",
    "    loss_avg = sum(loss_locals) / len(loss_locals)\n",
    "    print('Round {:3d}, Average loss {:.3f}'.format(iter, loss_avg))\n",
    "    \n",
    "    test_model(net_glob, test_loader, sloss)"
   ]
  },
  {
   "cell_type": "code",
   "execution_count": null,
   "metadata": {},
   "outputs": [],
   "source": []
  },
  {
   "cell_type": "code",
   "execution_count": null,
   "metadata": {
    "scrolled": true
   },
   "outputs": [],
   "source": []
  },
  {
   "cell_type": "markdown",
   "metadata": {},
   "source": [
    "# Test Model on local data"
   ]
  },
  {
   "cell_type": "code",
   "execution_count": 35,
   "metadata": {},
   "outputs": [
    {
     "name": "stdout",
     "output_type": "stream",
     "text": [
      "After Federated Learning -- checkpoint\n",
      "\n",
      "Test set: Average loss: 0.01016 \n",
      "Accuracy: 9647/10000 (96.47%)\n",
      "\n"
     ]
    }
   ],
   "source": [
    "#After fedlearning\n",
    "print('After Federated Learning -- checkpoint')\n",
    "test_model(checkpoint_globalnet, test_loader, sloss)"
   ]
  },
  {
   "cell_type": "code",
   "execution_count": 33,
   "metadata": {},
   "outputs": [
    {
     "name": "stdout",
     "output_type": "stream",
     "text": [
      "After Federated Learning\n",
      "\n",
      "Test set: Average loss: 0.02773 \n",
      "Accuracy: 9574/10000 (95.74%)\n",
      "\n"
     ]
    }
   ],
   "source": [
    "#After fedlearning\n",
    "print('After Federated Learning')\n",
    "test_model(net_glob, test_loader, sloss)"
   ]
  },
  {
   "cell_type": "code",
   "execution_count": null,
   "metadata": {},
   "outputs": [],
   "source": []
  },
  {
   "cell_type": "code",
   "execution_count": 21,
   "metadata": {},
   "outputs": [
    {
     "data": {
      "image/png": "[encoded data removed]",
      "text/plain": [
       "<Figure size 1152x360 with 2 Axes>"
      ]
     },
     "metadata": {
      "needs_background": "light"
     },
     "output_type": "display_data"
    }
   ],
   "source": [
    "# plot acc curve\n",
    "f, axarr = plt.subplots(1,2, figsize=(16,5))\n",
    "axarr[0].plot(range(len(total_acc))[:args.epochs], total_acc[:args.epochs])\n",
    "axarr[0].set_title('Test accuracy on global data')\n",
    "#axarr[0].set_xlim([80, 98])\n",
    "axarr[0].set_ylim([80, 98])\n",
    "axarr[1].plot(range(len(total_acc))[:args.epochs], total_acc[args.epochs:])\n",
    "axarr[1].set_title('Test accuracy after training on Local Data')\n",
    "#axarr[1].set_xlim([80, 98])\n",
    "axarr[1].set_ylim([80, 98])\n",
    "\n",
    "\n",
    "plt.show()"
   ]
  },
  {
   "cell_type": "code",
   "execution_count": null,
   "metadata": {},
   "outputs": [],
   "source": []
  }
 ],
 "metadata": {
  "kernelspec": {
   "display_name": "Python 3",
   "language": "python",
   "name": "python3"
  },
  "language_info": {
   "codemirror_mode": {
    "name": "ipython",
    "version": 3
   },
   "file_extension": ".py",
   "mimetype": "text/x-python",
   "name": "python",
   "nbconvert_exporter": "python",
   "pygments_lexer": "ipython3",
   "version": "3.8.2"
  }
 },
 "nbformat": 4,
 "nbformat_minor": 4
}
